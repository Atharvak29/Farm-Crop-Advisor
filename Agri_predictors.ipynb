{
 "cells": [
  {
   "cell_type": "code",
   "execution_count": 1,
   "id": "e3bb01b2-c482-4a94-9eb6-1973a145e9a1",
   "metadata": {},
   "outputs": [],
   "source": [
    "import pandas as pd\n",
    "import numpy as np\n",
    "import matplotlib.pyplot as plt\n",
    "import seaborn as sns\n",
    "from sklearn.model_selection import train_test_split\n",
    "from sklearn.ensemble import RandomForestClassifier, RandomForestRegressor\n",
    "from sklearn.metrics import accuracy_score, mean_squared_error, classification_report"
   ]
  },
  {
   "cell_type": "code",
   "execution_count": 2,
   "id": "be7f72dc-9a7a-4f16-9de8-45b8353a4a16",
   "metadata": {},
   "outputs": [],
   "source": [
    "df = pd.read_csv(r\"C:\\Users\\athud\\OneDrive\\Desktop\\MSc\\2nd Sem\\Mini Project\\Sample_data.csv\")"
   ]
  },
  {
   "cell_type": "code",
   "execution_count": 3,
   "id": "653e6ae6-bc8c-4d8c-8172-559acd32ad00",
   "metadata": {},
   "outputs": [
    {
     "data": {
      "text/html": [
       "<div>\n",
       "<style scoped>\n",
       "    .dataframe tbody tr th:only-of-type {\n",
       "        vertical-align: middle;\n",
       "    }\n",
       "\n",
       "    .dataframe tbody tr th {\n",
       "        vertical-align: top;\n",
       "    }\n",
       "\n",
       "    .dataframe thead th {\n",
       "        text-align: right;\n",
       "    }\n",
       "</style>\n",
       "<table border=\"1\" class=\"dataframe\">\n",
       "  <thead>\n",
       "    <tr style=\"text-align: right;\">\n",
       "      <th></th>\n",
       "      <th>Date</th>\n",
       "      <th>District</th>\n",
       "      <th>APMC_Name</th>\n",
       "      <th>Commodity</th>\n",
       "      <th>Arrival_Quantity_Qtl</th>\n",
       "      <th>Modal_Price_Rs_Qtl</th>\n",
       "      <th>Min_Price_Rs_Qtl</th>\n",
       "      <th>Max_Price_Rs_Qtl</th>\n",
       "      <th>Soil_Type</th>\n",
       "      <th>Water_Requirement</th>\n",
       "      <th>Season</th>\n",
       "      <th>Average_Yield_Tons_per_Ha</th>\n",
       "      <th>Typical_Costs_Rs_per_Ha</th>\n",
       "      <th>Export_Potential</th>\n",
       "    </tr>\n",
       "  </thead>\n",
       "  <tbody>\n",
       "    <tr>\n",
       "      <th>0</th>\n",
       "      <td>29-04-2025</td>\n",
       "      <td>Pune</td>\n",
       "      <td>Pune APMC</td>\n",
       "      <td>Soybean</td>\n",
       "      <td>2400</td>\n",
       "      <td>4200</td>\n",
       "      <td>4000</td>\n",
       "      <td>4400</td>\n",
       "      <td>Loam</td>\n",
       "      <td>Medium</td>\n",
       "      <td>Kharif</td>\n",
       "      <td>2.2</td>\n",
       "      <td>45000</td>\n",
       "      <td>Medium</td>\n",
       "    </tr>\n",
       "    <tr>\n",
       "      <th>1</th>\n",
       "      <td>29-04-2025</td>\n",
       "      <td>Satara</td>\n",
       "      <td>Satara APMC</td>\n",
       "      <td>Pigeon Pea</td>\n",
       "      <td>1600</td>\n",
       "      <td>5200</td>\n",
       "      <td>5000</td>\n",
       "      <td>5400</td>\n",
       "      <td>Loam</td>\n",
       "      <td>Low</td>\n",
       "      <td>Kharif</td>\n",
       "      <td>1.8</td>\n",
       "      <td>35000</td>\n",
       "      <td>Low</td>\n",
       "    </tr>\n",
       "    <tr>\n",
       "      <th>2</th>\n",
       "      <td>29-04-2025</td>\n",
       "      <td>Nashik</td>\n",
       "      <td>Lasalgaon APMC</td>\n",
       "      <td>Onion</td>\n",
       "      <td>3200</td>\n",
       "      <td>1600</td>\n",
       "      <td>1400</td>\n",
       "      <td>1800</td>\n",
       "      <td>Sandy</td>\n",
       "      <td>Medium</td>\n",
       "      <td>Rabi</td>\n",
       "      <td>15.0</td>\n",
       "      <td>120000</td>\n",
       "      <td>High</td>\n",
       "    </tr>\n",
       "    <tr>\n",
       "      <th>3</th>\n",
       "      <td>29-04-2025</td>\n",
       "      <td>Pune</td>\n",
       "      <td>Pune APMC</td>\n",
       "      <td>Groundnut</td>\n",
       "      <td>1200</td>\n",
       "      <td>5000</td>\n",
       "      <td>4700</td>\n",
       "      <td>5300</td>\n",
       "      <td>Sandy</td>\n",
       "      <td>Medium</td>\n",
       "      <td>Kharif</td>\n",
       "      <td>2.5</td>\n",
       "      <td>60000</td>\n",
       "      <td>Medium</td>\n",
       "    </tr>\n",
       "  </tbody>\n",
       "</table>\n",
       "</div>"
      ],
      "text/plain": [
       "         Date District       APMC_Name   Commodity  Arrival_Quantity_Qtl  \\\n",
       "0  29-04-2025     Pune       Pune APMC     Soybean                  2400   \n",
       "1  29-04-2025   Satara     Satara APMC  Pigeon Pea                  1600   \n",
       "2  29-04-2025   Nashik  Lasalgaon APMC       Onion                  3200   \n",
       "3  29-04-2025     Pune       Pune APMC   Groundnut                  1200   \n",
       "\n",
       "   Modal_Price_Rs_Qtl  Min_Price_Rs_Qtl  Max_Price_Rs_Qtl Soil_Type  \\\n",
       "0                4200              4000              4400      Loam   \n",
       "1                5200              5000              5400      Loam   \n",
       "2                1600              1400              1800     Sandy   \n",
       "3                5000              4700              5300     Sandy   \n",
       "\n",
       "  Water_Requirement  Season  Average_Yield_Tons_per_Ha  \\\n",
       "0            Medium  Kharif                        2.2   \n",
       "1               Low  Kharif                        1.8   \n",
       "2            Medium    Rabi                       15.0   \n",
       "3            Medium  Kharif                        2.5   \n",
       "\n",
       "   Typical_Costs_Rs_per_Ha Export_Potential  \n",
       "0                    45000           Medium  \n",
       "1                    35000              Low  \n",
       "2                   120000             High  \n",
       "3                    60000           Medium  "
      ]
     },
     "execution_count": 3,
     "metadata": {},
     "output_type": "execute_result"
    }
   ],
   "source": [
    "df.head()"
   ]
  },
  {
   "cell_type": "code",
   "execution_count": 17,
   "id": "f4fb48e1-e3b9-4f33-88a6-77db1c42f97b",
   "metadata": {},
   "outputs": [
    {
     "data": {
      "text/plain": [
       "Index(['Date', 'District', 'APMC_Name', 'Commodity', 'Arrival_Quantity_Qtl',\n",
       "       'Modal_Price_Rs_Qtl', 'Min_Price_Rs_Qtl', 'Max_Price_Rs_Qtl',\n",
       "       'Soil_Type', 'Water_Requirement', 'Season', 'Average_Yield_Tons_per_Ha',\n",
       "       'Typical_Costs_Rs_per_Ha', 'Export_Potential', 'Estimated_Profit',\n",
       "       'Price_SD'],\n",
       "      dtype='object')"
      ]
     },
     "execution_count": 17,
     "metadata": {},
     "output_type": "execute_result"
    }
   ],
   "source": [
    "df.columns"
   ]
  },
  {
   "cell_type": "markdown",
   "id": "3a0702fb-9870-40a4-a2a7-c576b35a30b8",
   "metadata": {},
   "source": [
    "* Basic EDA\n",
    "  \n",
    "print(df.info())\n",
    "\n",
    "print(df.describe())"
   ]
  },
  {
   "cell_type": "code",
   "execution_count": 5,
   "id": "dcdb2c3a-b948-407f-97d5-04c421211152",
   "metadata": {},
   "outputs": [
    {
     "data": {
      "image/png": "[encoded data removed]",
      "text/plain": [
       "<Figure size 1000x600 with 2 Axes>"
      ]
     },
     "metadata": {},
     "output_type": "display_data"
    }
   ],
   "source": [
    "# Correlation heatmap\n",
    "plt.figure(figsize=(10,6))\n",
    "sns.heatmap(df.corr(numeric_only=True), annot=True)\n",
    "plt.title(\"Correlation Heatmap\")\n",
    "plt.show()"
   ]
  },
  {
   "cell_type": "code",
   "execution_count": 6,
   "id": "a52dadb9-a5da-44de-81c3-206eb6c11c8c",
   "metadata": {},
   "outputs": [],
   "source": [
    "# === 3. Label Encoding for categorical columns ===\n",
    "\n",
    "from sklearn.preprocessing import LabelEncoder\n",
    "\n",
    "cat_cols = ['District', 'APMC_Name', 'Commodity', 'Soil_Type', 'Water_Requirement', 'Season', 'Export_Potential']\n",
    "le_dict = {}\n",
    "for col in cat_cols:\n",
    "    le = LabelEncoder()\n",
    "    df[col] = le.fit_transform(df[col])\n",
    "    le_dict[col] = le  # Save encoders for future decoding"
   ]
  },
  {
   "cell_type": "code",
   "execution_count": 7,
   "id": "010c0f41-1f45-4609-bdbb-c1f706bb4b47",
   "metadata": {},
   "outputs": [],
   "source": [
    "# === 4. Define Features & Targets ===\n",
    "\n",
    "# Features for all models\n",
    "feature_cols = ['District', 'Soil_Type', 'Water_Requirement', 'Season', 'Arrival_Quantity_Qtl', 'Modal_Price_Rs_Qtl']\n",
    "X = df[feature_cols]"
   ]
  },
  {
   "cell_type": "code",
   "execution_count": 8,
   "id": "0537a267-0d99-4489-9810-45d7b0563535",
   "metadata": {},
   "outputs": [
    {
     "data": {
      "text/html": [
       "<div>\n",
       "<style scoped>\n",
       "    .dataframe tbody tr th:only-of-type {\n",
       "        vertical-align: middle;\n",
       "    }\n",
       "\n",
       "    .dataframe tbody tr th {\n",
       "        vertical-align: top;\n",
       "    }\n",
       "\n",
       "    .dataframe thead th {\n",
       "        text-align: right;\n",
       "    }\n",
       "</style>\n",
       "<table border=\"1\" class=\"dataframe\">\n",
       "  <thead>\n",
       "    <tr style=\"text-align: right;\">\n",
       "      <th></th>\n",
       "      <th>District</th>\n",
       "      <th>Soil_Type</th>\n",
       "      <th>Water_Requirement</th>\n",
       "      <th>Season</th>\n",
       "      <th>Arrival_Quantity_Qtl</th>\n",
       "      <th>Modal_Price_Rs_Qtl</th>\n",
       "    </tr>\n",
       "  </thead>\n",
       "  <tbody>\n",
       "    <tr>\n",
       "      <th>0</th>\n",
       "      <td>1</td>\n",
       "      <td>0</td>\n",
       "      <td>1</td>\n",
       "      <td>0</td>\n",
       "      <td>2400</td>\n",
       "      <td>4200</td>\n",
       "    </tr>\n",
       "    <tr>\n",
       "      <th>1</th>\n",
       "      <td>2</td>\n",
       "      <td>0</td>\n",
       "      <td>0</td>\n",
       "      <td>0</td>\n",
       "      <td>1600</td>\n",
       "      <td>5200</td>\n",
       "    </tr>\n",
       "    <tr>\n",
       "      <th>2</th>\n",
       "      <td>0</td>\n",
       "      <td>1</td>\n",
       "      <td>1</td>\n",
       "      <td>1</td>\n",
       "      <td>3200</td>\n",
       "      <td>1600</td>\n",
       "    </tr>\n",
       "    <tr>\n",
       "      <th>3</th>\n",
       "      <td>1</td>\n",
       "      <td>1</td>\n",
       "      <td>1</td>\n",
       "      <td>0</td>\n",
       "      <td>1200</td>\n",
       "      <td>5000</td>\n",
       "    </tr>\n",
       "  </tbody>\n",
       "</table>\n",
       "</div>"
      ],
      "text/plain": [
       "   District  Soil_Type  Water_Requirement  Season  Arrival_Quantity_Qtl  \\\n",
       "0         1          0                  1       0                  2400   \n",
       "1         2          0                  0       0                  1600   \n",
       "2         0          1                  1       1                  3200   \n",
       "3         1          1                  1       0                  1200   \n",
       "\n",
       "   Modal_Price_Rs_Qtl  \n",
       "0                4200  \n",
       "1                5200  \n",
       "2                1600  \n",
       "3                5000  "
      ]
     },
     "execution_count": 8,
     "metadata": {},
     "output_type": "execute_result"
    }
   ],
   "source": [
    "X"
   ]
  },
  {
   "cell_type": "code",
   "execution_count": 9,
   "id": "fc4e5fff-388e-4bea-b1ab-4c433043aa7a",
   "metadata": {},
   "outputs": [
    {
     "name": "stdout",
     "output_type": "stream",
     "text": [
      "Crop Suitability Prediction (Classification)\n",
      "              precision    recall  f1-score   support\n",
      "\n",
      "           0       0.00      0.00      0.00       0.0\n",
      "           2       0.00      0.00      0.00       1.0\n",
      "\n",
      "    accuracy                           0.00       1.0\n",
      "   macro avg       0.00      0.00      0.00       1.0\n",
      "weighted avg       0.00      0.00      0.00       1.0\n",
      "\n"
     ]
    },
    {
     "name": "stderr",
     "output_type": "stream",
     "text": [
      "C:\\ProgramData\\anaconda3\\Lib\\site-packages\\sklearn\\metrics\\_classification.py:1509: UndefinedMetricWarning: Precision is ill-defined and being set to 0.0 in labels with no predicted samples. Use `zero_division` parameter to control this behavior.\n",
      "  _warn_prf(average, modifier, f\"{metric.capitalize()} is\", len(result))\n",
      "C:\\ProgramData\\anaconda3\\Lib\\site-packages\\sklearn\\metrics\\_classification.py:1509: UndefinedMetricWarning: Recall is ill-defined and being set to 0.0 in labels with no true samples. Use `zero_division` parameter to control this behavior.\n",
      "  _warn_prf(average, modifier, f\"{metric.capitalize()} is\", len(result))\n",
      "C:\\ProgramData\\anaconda3\\Lib\\site-packages\\sklearn\\metrics\\_classification.py:1509: UndefinedMetricWarning: Precision is ill-defined and being set to 0.0 in labels with no predicted samples. Use `zero_division` parameter to control this behavior.\n",
      "  _warn_prf(average, modifier, f\"{metric.capitalize()} is\", len(result))\n",
      "C:\\ProgramData\\anaconda3\\Lib\\site-packages\\sklearn\\metrics\\_classification.py:1509: UndefinedMetricWarning: Recall is ill-defined and being set to 0.0 in labels with no true samples. Use `zero_division` parameter to control this behavior.\n",
      "  _warn_prf(average, modifier, f\"{metric.capitalize()} is\", len(result))\n",
      "C:\\ProgramData\\anaconda3\\Lib\\site-packages\\sklearn\\metrics\\_classification.py:1509: UndefinedMetricWarning: Precision is ill-defined and being set to 0.0 in labels with no predicted samples. Use `zero_division` parameter to control this behavior.\n",
      "  _warn_prf(average, modifier, f\"{metric.capitalize()} is\", len(result))\n",
      "C:\\ProgramData\\anaconda3\\Lib\\site-packages\\sklearn\\metrics\\_classification.py:1509: UndefinedMetricWarning: Recall is ill-defined and being set to 0.0 in labels with no true samples. Use `zero_division` parameter to control this behavior.\n",
      "  _warn_prf(average, modifier, f\"{metric.capitalize()} is\", len(result))\n"
     ]
    }
   ],
   "source": [
    "# === 4A. Crop Suitability Prediction ===\n",
    "# Target: Commodity (multiclass classification)\n",
    "\n",
    "y_crop = df['Commodity']\n",
    "X_train, X_test, y_train, y_test = train_test_split(X, y_crop, test_size=0.2, random_state=42)\n",
    "\n",
    "rf_crop = RandomForestClassifier(n_estimators=100, random_state=42)\n",
    "rf_crop.fit(X_train, y_train)\n",
    "y_pred_crop = rf_crop.predict(X_test)\n",
    "\n",
    "print(\"Crop Suitability Prediction (Classification)\")\n",
    "print(classification_report(y_test, y_pred_crop))"
   ]
  },
  {
   "cell_type": "code",
   "execution_count": 10,
   "id": "e6169fc2-8425-402c-8e9d-4d6f0e8d1112",
   "metadata": {},
   "outputs": [
    {
     "name": "stdout",
     "output_type": "stream",
     "text": [
      "\n",
      "Yield Forecast (Regression)\n",
      "MSE: 1.1728889999999952\n"
     ]
    }
   ],
   "source": [
    "# === 4B. Yield Forecast ===\n",
    "# Target: Average_Yield_Tons_per_Ha (regression)\n",
    "\n",
    "y_yield = df['Average_Yield_Tons_per_Ha']\n",
    "X_train, X_test, y_train, y_test = train_test_split(X, y_yield, test_size=0.2, random_state=42)\n",
    "\n",
    "rf_yield = RandomForestRegressor(n_estimators=100, random_state=42)\n",
    "rf_yield.fit(X_train, y_train)\n",
    "y_pred_yield = rf_yield.predict(X_test)\n",
    "\n",
    "print(\"\\nYield Forecast (Regression)\")\n",
    "print(\"MSE:\", mean_squared_error(y_test, y_pred_yield))"
   ]
  },
  {
   "cell_type": "code",
   "execution_count": 11,
   "id": "52e47924-a525-44a1-9441-c22ddef60160",
   "metadata": {},
   "outputs": [
    {
     "name": "stdout",
     "output_type": "stream",
     "text": [
      "\n",
      "Market Price Forecast (Regression)\n",
      "MSE: 419904.0\n"
     ]
    }
   ],
   "source": [
    "# === 4C. Market Price Forecast ===\n",
    "# Target: Modal_Price_Rs_Qtl (regression)\n",
    "\n",
    "y_price = df['Modal_Price_Rs_Qtl']\n",
    "X_train, X_test, y_train, y_test = train_test_split(X, y_price, test_size=0.2, random_state=42)\n",
    "\n",
    "rf_price = RandomForestRegressor(n_estimators=100, random_state=42)\n",
    "rf_price.fit(X_train, y_train)\n",
    "y_pred_price = rf_price.predict(X_test)\n",
    "\n",
    "print(\"\\nMarket Price Forecast (Regression)\")\n",
    "print(\"MSE:\", mean_squared_error(y_test, y_pred_price))"
   ]
  },
  {
   "cell_type": "code",
   "execution_count": 13,
   "id": "cad7e3e5-dd14-424c-80d4-205ee2558a60",
   "metadata": {},
   "outputs": [
    {
     "data": {
      "text/plain": [
       "0     47400.0\n",
       "1     58600.0\n",
       "2    120000.0\n",
       "3     65000.0\n",
       "Name: Estimated_Profit, dtype: float64"
      ]
     },
     "execution_count": 13,
     "metadata": {},
     "output_type": "execute_result"
    }
   ],
   "source": [
    "# === 4D. Profitability Estimation ===\n",
    "# Profit = (Yield * Price) - Cost → We'll predict directly profitability\n",
    "\n",
    "df['Estimated_Profit'] = (df['Average_Yield_Tons_per_Ha'] * df['Modal_Price_Rs_Qtl'] * 10) - df['Typical_Costs_Rs_per_Ha']\n",
    "df['Estimated_Profit']"
   ]
  },
  {
   "cell_type": "code",
   "execution_count": 14,
   "id": "e6e2acd2-6936-48a1-b85a-922697ee4ee3",
   "metadata": {},
   "outputs": [
    {
     "name": "stdout",
     "output_type": "stream",
     "text": [
      "\n",
      "Profitability Estimation (Regression)\n",
      "MSE: 3013696.0\n"
     ]
    }
   ],
   "source": [
    "# Target: Estimated_Profit\n",
    "\n",
    "y_profit = df['Estimated_Profit']\n",
    "X_train, X_test, y_train, y_test = train_test_split(X, y_profit, test_size=0.2, random_state=42)\n",
    "\n",
    "rf_profit = RandomForestRegressor(n_estimators=100, random_state=42)\n",
    "rf_profit.fit(X_train, y_train)\n",
    "y_pred_profit = rf_profit.predict(X_test)\n",
    "\n",
    "print(\"\\nProfitability Estimation (Regression)\")\n",
    "print(\"MSE:\", mean_squared_error(y_test, y_pred_profit))"
   ]
  },
  {
   "cell_type": "code",
   "execution_count": 15,
   "id": "7c7c7d57-6acc-49b8-90c4-191f2c7b3a33",
   "metadata": {},
   "outputs": [],
   "source": [
    "# === 4E. Risk/Volatility Assessment ===\n",
    "# Calculate volatility of price (std dev in recent data)\n",
    "# Here we'll assume Price_SD column (you can calculate moving std dev later)\n",
    "\n",
    "df['Price_SD'] = df.groupby('Commodity')['Modal_Price_Rs_Qtl'].transform('std').fillna(0)"
   ]
  },
  {
   "cell_type": "code",
   "execution_count": 16,
   "id": "0f52000f-154f-4548-9dbd-ca0d77becbbf",
   "metadata": {},
   "outputs": [
    {
     "name": "stdout",
     "output_type": "stream",
     "text": [
      "\n",
      "Risk/Volatility Assessment (Regression)\n",
      "MSE: 0.0\n"
     ]
    }
   ],
   "source": [
    "# Target: Price_SD (higher → riskier)\n",
    "\n",
    "y_risk = df['Price_SD']\n",
    "X_train, X_test, y_train, y_test = train_test_split(X, y_risk, test_size=0.2, random_state=42)\n",
    "\n",
    "rf_risk = RandomForestRegressor(n_estimators=100, random_state=42)\n",
    "rf_risk.fit(X_train, y_train)\n",
    "y_pred_risk = rf_risk.predict(X_test)\n",
    "\n",
    "print(\"\\nRisk/Volatility Assessment (Regression)\")\n",
    "print(\"MSE:\", mean_squared_error(y_test, y_pred_risk))"
   ]
  },
  {
   "cell_type": "markdown",
   "id": "4bcb9b7b-9b3d-4302-b093-efb988365ca0",
   "metadata": {},
   "source": [
    "# === Save Models ===\n",
    "\n",
    "import joblib\n",
    "\n",
    "joblib.dump(rf_crop, 'model_crop_suitability.pkl')\n",
    "joblib.dump(rf_yield, 'model_yield_forecast.pkl')\n",
    "joblib.dump(rf_price, 'model_price_forecast.pkl')\n",
    "joblib.dump(rf_profit, 'model_profit_estimation.pkl')\n",
    "joblib.dump(rf_risk, 'model_risk_assessment.pkl')\n",
    "\n",
    "print(\"\\n✅ All models trained and saved!\")"
   ]
  },
  {
   "cell_type": "code",
   "execution_count": null,
   "id": "33aa2836-cedd-492a-8f85-6595ed27ad6c",
   "metadata": {},
   "outputs": [],
   "source": []
  }
 ],
 "metadata": {
  "kernelspec": {
   "display_name": "Python 3 (ipykernel)",
   "language": "python",
   "name": "python3"
  },
  "language_info": {
   "codemirror_mode": {
    "name": "ipython",
    "version": 3
   },
   "file_extension": ".py",
   "mimetype": "text/x-python",
   "name": "python",
   "nbconvert_exporter": "python",
   "pygments_lexer": "ipython3",
   "version": "3.12.4"
  }
 },
 "nbformat": 4,
 "nbformat_minor": 5
}
